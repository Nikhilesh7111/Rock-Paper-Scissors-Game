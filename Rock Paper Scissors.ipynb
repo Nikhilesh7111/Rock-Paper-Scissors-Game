{
 "cells": [
  {
   "cell_type": "code",
   "execution_count": null,
   "metadata": {},
   "outputs": [],
   "source": [
    "import random\n",
    "\n",
    "def get_computer_choice():\n",
    "    choices = [\"Rock\", \"Paper\", \"Scissors\"]\n",
    "    return random.choice(choices)\n",
    "\n",
    "def determine_winner(user_choice, computer_choice):\n",
    "    if user_choice == computer_choice:\n",
    "        return \"It's a tie!\"\n",
    "    elif (user_choice == \"Rock\" and computer_choice == \"Scissors\") or \\\n",
    "         (user_choice == \"Scissors\" and computer_choice == \"Paper\") or \\\n",
    "         (user_choice == \"Paper\" and computer_choice == \"Rock\"):\n",
    "        return \"You win!\"\n",
    "    else:\n",
    "        return \"You lose!\"\n",
    "\n",
    "def play_game():\n",
    "    user_choice = input(\"Enter a choice (Rock, Paper, Scissors): \").strip().capitalize()\n",
    "    if user_choice not in [\"Rock\", \"Paper\", \"Scissors\"]:\n",
    "        print(\"Invalid input. Please try again.\")\n",
    "        return\n",
    "\n",
    "    computer_choice = get_computer_choice()\n",
    "    print(f\"\\nYou chose {user_choice}, computer chose {computer_choice}.\")\n",
    "    result = determine_winner(user_choice, computer_choice)\n",
    "    print(result)\n",
    "\n",
    "\n",
    "    computer_choice = get_computer_choice()\n",
    "    print(f\"\\nYou chose {user_choice}, computer chose {computer_choice}.\")\n",
    "    result = determine_winner(user_choice, computer_choice)\n",
    "    print(result)\n",
    "\n",
    "# Main game loop\n",
    "while True:\n",
    "    play_game()\n",
    "    play_again = input(\"Play again? (yes/no): \").lower()\n",
    "    if play_again != \"yes\":\n",
    "        break\n",
    "\n",
    "print(\"Thanks for playing!\")\n"
   ]
  }
 ],
 "metadata": {
  "kernelspec": {
   "display_name": "Python 3",
   "language": "python",
   "name": "python3"
  },
  "language_info": {
   "name": "python",
   "version": "3.10.0"
  }
 },
 "nbformat": 4,
 "nbformat_minor": 2
}
